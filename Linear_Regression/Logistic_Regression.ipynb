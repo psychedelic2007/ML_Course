{
 "cells": [
  {
   "cell_type": "markdown",
   "id": "d4b81320",
   "metadata": {},
   "source": [
    "# Logistic Regression\n",
    "## Implementation of Logistic Regression from scratch\n",
    "## We will predict using Logistic Regression whether the model can predict an output (0,1) based on a certain input\n",
    "\n",
    "#### Input to the model will be two integers with corresponding labels as either \"0\" or \"1\"\n",
    "#### The model has to predict an output based on a certain two integer input"
   ]
  },
  {
   "cell_type": "code",
   "execution_count": 8,
   "id": "4f301ee5",
   "metadata": {},
   "outputs": [],
   "source": [
    "import numpy as np\n",
    "\n",
    "class LogisticRegressionScratch:\n",
    "    def __init__(self, learning_rate=0.01, num_iterations=1000):\n",
    "        self.learning_rate = learning_rate\n",
    "        self.num_iterations = num_iterations\n",
    "        self.weights = None\n",
    "        self.bias = None\n",
    "\n",
    "    def sigmoid(self, z):\n",
    "        return 1 / (1 + np.exp(-z))\n",
    "\n",
    "    def fit(self, X, y):\n",
    "        num_samples, num_features = X.shape\n",
    "        self.weights = np.zeros(num_features)\n",
    "        self.bias = 0\n",
    "\n",
    "        for _ in range(self.num_iterations):\n",
    "            linear_model = np.dot(X, self.weights) + self.bias\n",
    "            y_predicted = self.sigmoid(linear_model)\n",
    "\n",
    "            dw = (1 / num_samples) * np.dot(X.T, (y_predicted - y))\n",
    "            db = (1 / num_samples) * np.sum(y_predicted - y)\n",
    "\n",
    "            self.weights -= self.learning_rate * dw\n",
    "            self.bias -= self.learning_rate * db\n",
    "\n",
    "    def predict(self, X):\n",
    "        linear_model = np.dot(X, self.weights) + self.bias\n",
    "        y_predicted = self.sigmoid(linear_model)\n",
    "        y_predicted_cls = [1 if i > 0.5 else 0 for i in y_predicted]\n",
    "        return np.array(y_predicted_cls)"
   ]
  },
  {
   "cell_type": "markdown",
   "id": "e63f0d3d",
   "metadata": {},
   "source": [
    "# Making Predictions"
   ]
  },
  {
   "cell_type": "code",
   "execution_count": 9,
   "id": "2a5a220f",
   "metadata": {},
   "outputs": [],
   "source": [
    "# Sample data\n",
    "X_train = np.array([[1, 2], [2, 3], [3, 4], [4, 5], [5, 6]])\n",
    "y_train = np.array([0, 0, 1, 1, 1])\n",
    "\n",
    "# Initialize and train the logistic regression model\n",
    "model_scratch = LogisticRegressionScratch(learning_rate=0.01, num_iterations=1000)\n",
    "model_scratch.fit(X_train, y_train)\n",
    "\n",
    "# Sample test data\n",
    "X_test = np.array([[6,7]])\n",
    "\n",
    "# Make predictions\n",
    "predictions_scratch = model_scratch.predict(X_test)\n",
    "print(\"Predictions from Scratch:\", predictions_scratch)"
   ]
  },
  {
   "cell_type": "markdown",
   "id": "ab0925ab",
   "metadata": {},
   "source": [
    "# Using Built-in package for Logistic Regression"
   ]
  },
  {
   "cell_type": "code",
   "execution_count": 10,
   "id": "bb5a0c56",
   "metadata": {},
   "outputs": [],
   "source": [
    "from sklearn.linear_model import LogisticRegression\n",
    "\n",
    "# Initialize and train the logistic regression model using scikit-learn\n",
    "model_sklearn = LogisticRegression()\n",
    "model_sklearn.fit(X_train, y_train)\n",
    "\n",
    "# Make predictions\n",
    "predictions_sklearn = model_sklearn.predict(X_test)\n",
    "print(\"Predictions with scikit-learn:\", predictions_sklearn)"
   ]
  },
  {
   "cell_type": "code",
   "execution_count": null,
   "id": "f59449f6",
   "metadata": {},
   "outputs": [],
   "source": []
  }
 ],
 "metadata": {
  "kernelspec": {
   "display_name": "Python 3 (ipykernel)",
   "language": "python",
   "name": "python3"
  },
  "language_info": {
   "codemirror_mode": {
    "name": "ipython",
    "version": 3
   },
   "file_extension": ".py",
   "mimetype": "text/x-python",
   "name": "python",
   "nbconvert_exporter": "python",
   "pygments_lexer": "ipython3",
   "version": "3.9.12"
  }
 },
 "nbformat": 4,
 "nbformat_minor": 5
}
