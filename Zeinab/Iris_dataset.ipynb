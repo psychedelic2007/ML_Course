{
 "cells": [
  {
   "cell_type": "code",
   "execution_count": 12,
   "id": "a5d3d07e",
   "metadata": {},
   "outputs": [],
   "source": [
    "#Step 1\n",
    "import pandas as pd\n",
    "import matplotlib.pyplot as plt\n",
    "import seaborn as sns\n",
    "\n",
    "data = pd.read_csv(\"iris.csv\")\n",
    "data.head()"
   ]
  },
  {
   "cell_type": "code",
   "execution_count": 13,
   "id": "420a162e",
   "metadata": {},
   "outputs": [],
   "source": [
    "# Step 2: Data Overview\n",
    "# Display basic information about the dataset\n",
    "print(\"Step 2: Data Overview\")\n",
    "print(data.info())"
   ]
  },
  {
   "cell_type": "code",
   "execution_count": 14,
   "id": "0c7eb223",
   "metadata": {},
   "outputs": [],
   "source": [
    "# Step 3: Summary Statistics\n",
    "# Display summary statistics (mean, median, min, max, etc.) for numerical columns\n",
    "print(\"\\nStep 3: Summary Statistics\")\n",
    "print(data.describe())"
   ]
  },
  {
   "cell_type": "code",
   "execution_count": 15,
   "id": "bdf19ed7",
   "metadata": {},
   "outputs": [],
   "source": [
    "# Step 4: Missing Values\n",
    "# Check for missing values and visualize them if any\n",
    "print(\"\\nStep 4: Missing Values\")\n",
    "print(data.isnull().sum())"
   ]
  },
  {
   "cell_type": "code",
   "execution_count": 16,
   "id": "aaba379c",
   "metadata": {},
   "outputs": [],
   "source": [
    "# Step 5: Data Distribution\n",
    "# Visualize the distribution of numerical features\n",
    "print(\"\\nStep 5: Data Distribution\")\n",
    "\n",
    "# Get the list of numerical columns\n",
    "numerical_columns = data.select_dtypes(include=['int', 'float']).columns\n",
    "num_numerical_columns = len(numerical_columns)\n",
    "\n",
    "# Determine the subplot layout based on the number of numerical columns\n",
    "num_rows = (num_numerical_columns - 1) // 3 + 1\n",
    "num_cols = min(num_numerical_columns, 3)\n",
    "\n",
    "# Create subplots dynamically\n",
    "plt.figure(figsize=(15, 5 * num_rows))\n",
    "for i, column in enumerate(numerical_columns):\n",
    "    plt.subplot(num_rows, num_cols, i + 1)\n",
    "    sns.histplot(data[column], kde=True)\n",
    "    plt.title(f'Distribution of {column}')\n",
    "plt.tight_layout()\n",
    "plt.show()"
   ]
  },
  {
   "cell_type": "code",
   "execution_count": 17,
   "id": "89f53ed9",
   "metadata": {},
   "outputs": [],
   "source": [
    "# Step 6: Correlation Analysis\n",
    "# Calculate and visualize correlations between numerical features\n",
    "print(\"\\nStep 6: Correlation Analysis\")\n",
    "correlation_matrix = data.corr()\n",
    "plt.figure(figsize=(10, 8))\n",
    "sns.heatmap(correlation_matrix, annot=True, cmap='coolwarm', fmt=\".2f\")\n",
    "plt.title(\"Correlation Heatmap\")\n",
    "plt.show()"
   ]
  },
  {
   "cell_type": "code",
   "execution_count": 18,
   "id": "b1676a7b",
   "metadata": {},
   "outputs": [],
   "source": [
    "# Step 7: Outliers\n",
    "# Detect and visualize outliers using box plots\n",
    "print(\"\\nStep 7: Outliers\")\n",
    "\n",
    "# Get the list of numerical columns\n",
    "numerical_columns = data.select_dtypes(include=['int', 'float']).columns\n",
    "num_numerical_columns = len(numerical_columns)\n",
    "\n",
    "# Determine the subplot layout based on the number of numerical columns\n",
    "num_rows = (num_numerical_columns - 1) // 3 + 1\n",
    "num_cols = min(num_numerical_columns, 3)\n",
    "\n",
    "# Create subplots dynamically\n",
    "plt.figure(figsize=(15, 5 * num_rows))\n",
    "for i, column in enumerate(numerical_columns):\n",
    "    plt.subplot(num_rows, num_cols, i + 1)\n",
    "    sns.boxplot(data=data, x=column)\n",
    "    plt.title(f'Boxplot of {column}')\n",
    "plt.tight_layout()\n",
    "plt.show()"
   ]
  },
  {
   "cell_type": "code",
   "execution_count": 19,
   "id": "82b058d3",
   "metadata": {},
   "outputs": [],
   "source": [
    "# Step 8: Pairwise Relationships\n",
    "# Visualize pairwise relationships between numerical features\n",
    "print(\"\\nStep 8: Pairwise Relationships\")\n",
    "sns.pairplot(data=data, hue='variety', diag_kind='kde')\n",
    "plt.suptitle(\"Pairwise Relationships\")\n",
    "plt.show()"
   ]
  },
  {
   "cell_type": "code",
   "execution_count": 20,
   "id": "3e752f5b",
   "metadata": {},
   "outputs": [],
   "source": [
    "# Step 9: Target Counts\n",
    "# Count the number of occurrences of 0 and 1 in the \"outcome\" column\n",
    "print(\"\\nStep 9: Pairwise Relationships\")\n",
    "outcome_counts = data['variety'].value_counts()\n",
    "\n",
    "# Create a bar plot\n",
    "plt.figure(figsize=(8, 6))\n",
    "outcome_counts.plot(kind='bar', color=['blue', 'green'])\n",
    "plt.title('Count of 0 and 1 in Outcome')\n",
    "plt.xlabel('Outcome')\n",
    "plt.ylabel('Count')\n",
    "plt.xticks(rotation=0)  # Remove rotation of x-axis labels\n",
    "plt.show()"
   ]
  },
  {
   "cell_type": "code",
   "execution_count": null,
   "id": "be120713",
   "metadata": {},
   "outputs": [],
   "source": []
  }
 ],
 "metadata": {
  "kernelspec": {
   "display_name": "Python 3 (ipykernel)",
   "language": "python",
   "name": "python3"
  },
  "language_info": {
   "codemirror_mode": {
    "name": "ipython",
    "version": 3
   },
   "file_extension": ".py",
   "mimetype": "text/x-python",
   "name": "python",
   "nbconvert_exporter": "python",
   "pygments_lexer": "ipython3",
   "version": "3.9.12"
  }
 },
 "nbformat": 4,
 "nbformat_minor": 5
}
